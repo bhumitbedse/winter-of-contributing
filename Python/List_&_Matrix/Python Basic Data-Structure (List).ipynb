{
  "nbformat": 4,
  "nbformat_minor": 0,
  "metadata": {
    "kernelspec": {
      "display_name": "Python 3",
      "language": "python",
      "name": "python3"
    },
    "language_info": {
      "codemirror_mode": {
        "name": "ipython",
        "version": 3
      },
      "file_extension": ".py",
      "mimetype": "text/x-python",
      "name": "python",
      "nbconvert_exporter": "python",
      "pygments_lexer": "ipython3",
      "version": "3.5.2"
    },
    "colab": {
      "name": "lists.ipynb",
      "provenance": [],
      "collapsed_sections": [
        "y9FCu1Bjt3A0",
        "DliR4HTat3A2",
        "666aj-pWt3A2"
      ]
    }
  },
  "cells": [
    {
      "cell_type": "markdown",
      "metadata": {
        "id": "SgIONP-rt3AT"
      },
      "source": [
        "# Introduction to List\n",
        "\n"
      ]
    },
    {
      "cell_type": "markdown",
      "metadata": {
        "id": "-VriZSPft3Ab"
      },
      "source": [
        "We can store collections of data, using Python's type `list`. \n",
        "\n",
        "The general form of a list is:\n",
        "\n",
        "*[expression1, expression2, ..., expressionN]*\n",
        "\n",
        "\n",
        "We can store the data in Python as follows:"
      ]
    },
    {
      "cell_type": "code",
      "metadata": {
        "id": "gA93HyJot3Ad"
      },
      "source": [
        "gross_earnings = [361681, 740741, 396105,  284600, 249154]"
      ],
      "execution_count": null,
      "outputs": []
    },
    {
      "cell_type": "markdown",
      "metadata": {
        "id": "3us0ErONt3Ag"
      },
      "source": [
        "We enclose the data in square brackets, and *items* of the list (also called *elements*) are separated by commas. We access an element using its *index* -- the order of the element in the list, **starting from 0**.\n"
      ]
    },
    {
      "cell_type": "code",
      "metadata": {
        "id": "fXG172Pet3Ah",
        "outputId": "e8e15071-f014-4523-973e-4a25a9c77678"
      },
      "source": [
        "gross_earnings[0]"
      ],
      "execution_count": null,
      "outputs": [
        {
          "data": {
            "text/plain": [
              "361681"
            ]
          },
          "execution_count": 2,
          "metadata": {},
          "output_type": "execute_result"
        }
      ]
    },
    {
      "cell_type": "code",
      "metadata": {
        "id": "DomXcpApt3Ai",
        "outputId": "72ba0ca6-188e-4bbf-f738-e6473ebf0dd9"
      },
      "source": [
        "gross_earnings[1]"
      ],
      "execution_count": null,
      "outputs": [
        {
          "data": {
            "text/plain": [
              "740741"
            ]
          },
          "execution_count": 3,
          "metadata": {},
          "output_type": "execute_result"
        }
      ]
    },
    {
      "cell_type": "code",
      "metadata": {
        "id": "trsA2t-6t3Ak",
        "outputId": "67fe09ae-e4c5-4ac9-fef6-6283a38e2ec1"
      },
      "source": [
        "gross_earnings[4]"
      ],
      "execution_count": null,
      "outputs": [
        {
          "data": {
            "text/plain": [
              "249154"
            ]
          },
          "execution_count": 4,
          "metadata": {},
          "output_type": "execute_result"
        }
      ]
    },
    {
      "cell_type": "markdown",
      "metadata": {
        "id": "kUakY06lt3Al"
      },
      "source": [
        "Note that, since there are 5 elements in the list and we start counting from 0, we only have indices 0, 1, 2, 3, and 4. The following produces an error:"
      ]
    },
    {
      "cell_type": "code",
      "metadata": {
        "id": "LEmRFvmMt3Am",
        "outputId": "df4e99a8-8070-4dff-c99b-8732109834a6"
      },
      "source": [
        "gross_earnings[5]"
      ],
      "execution_count": null,
      "outputs": [
        {
          "ename": "IndexError",
          "evalue": "list index out of range",
          "output_type": "error",
          "traceback": [
            "\u001b[0;31m---------------------------------------------------------------------------\u001b[0m",
            "\u001b[0;31mIndexError\u001b[0m                                Traceback (most recent call last)",
            "\u001b[0;32m<ipython-input-5-57b472f13599>\u001b[0m in \u001b[0;36m<module>\u001b[0;34m()\u001b[0m\n\u001b[0;32m----> 1\u001b[0;31m \u001b[0mgross_earnings\u001b[0m\u001b[0;34m[\u001b[0m\u001b[0;36m5\u001b[0m\u001b[0;34m]\u001b[0m\u001b[0;34m\u001b[0m\u001b[0m\n\u001b[0m",
            "\u001b[0;31mIndexError\u001b[0m: list index out of range"
          ]
        }
      ]
    },
    {
      "cell_type": "markdown",
      "metadata": {
        "id": "zPd75FoWt3Ao"
      },
      "source": [
        "The expression `gross_earnings[2]` gives a `float` value, so you can use the expression `gross_earnings[2]` anywhere that you can use a float. For example:"
      ]
    },
    {
      "cell_type": "code",
      "metadata": {
        "id": "xxaOCzLCt3Ap",
        "outputId": "42a31d73-249e-4c7b-f7d0-712d67932825"
      },
      "source": [
        "0.6 * (gross_earnings[2] + 500)"
      ],
      "execution_count": null,
      "outputs": [
        {
          "data": {
            "text/plain": [
              "237963.0"
            ]
          },
          "execution_count": 6,
          "metadata": {},
          "output_type": "execute_result"
        }
      ]
    },
    {
      "cell_type": "markdown",
      "metadata": {
        "id": "owtVE-vat3Aq"
      },
      "source": [
        "You can access an element of a list, by using a variable to represent the index:"
      ]
    },
    {
      "cell_type": "code",
      "metadata": {
        "id": "zA9X6i_at3Ar",
        "outputId": "b72175dc-4145-4f07-ca24-b035c37839f3"
      },
      "source": [
        "i = 2\n",
        "gross_earnings[i]"
      ],
      "execution_count": null,
      "outputs": [
        {
          "data": {
            "text/plain": [
              "396105"
            ]
          },
          "execution_count": 7,
          "metadata": {},
          "output_type": "execute_result"
        }
      ]
    },
    {
      "cell_type": "markdown",
      "metadata": {
        "id": "C9jZRasht3Ar"
      },
      "source": [
        "The variable name `i` is commonly used when the variable represents an index."
      ]
    },
    {
      "cell_type": "markdown",
      "metadata": {
        "id": "qiMlIan7t3As"
      },
      "source": [
        "## Functions and operations on lists\n",
        "As we did for objects of type `str`, we can obtain the length of a list using Python's function `len`.  "
      ]
    },
    {
      "cell_type": "code",
      "metadata": {
        "id": "bOpN2DZKt3As",
        "outputId": "89d1f1c6-a350-4be3-d2e1-54471f6de6cc"
      },
      "source": [
        "len(gross_earnings)"
      ],
      "execution_count": null,
      "outputs": [
        {
          "data": {
            "text/plain": [
              "5"
            ]
          },
          "execution_count": 8,
          "metadata": {},
          "output_type": "execute_result"
        }
      ]
    },
    {
      "cell_type": "markdown",
      "metadata": {
        "id": "OAKxPcPzt3At"
      },
      "source": [
        "The function call produced 5, because there are five elements in the list that `gross_earnings` refers to. \n",
        "\n",
        "Since the list has 5 elements, the valid indexes into the list are 0, 1, 2, 3, and 4.  In general, the last index is equal to the length of the list minus one: "
      ]
    },
    {
      "cell_type": "code",
      "metadata": {
        "id": "79x3kyblt3At",
        "outputId": "f1c857a3-2dec-4690-b9fa-24bf37b7bf15"
      },
      "source": [
        "gross_earnings[len(gross_earnings) - 1]"
      ],
      "execution_count": null,
      "outputs": [
        {
          "data": {
            "text/plain": [
              "249154"
            ]
          },
          "execution_count": 9,
          "metadata": {},
          "output_type": "execute_result"
        }
      ]
    },
    {
      "cell_type": "markdown",
      "metadata": {
        "id": "RmWM3Lt3t3Au"
      },
      "source": [
        "Here is another example of using `len` to calculate the last index and to access the last element in the list:"
      ]
    },
    {
      "cell_type": "code",
      "metadata": {
        "id": "s4CJU7kSt3Au",
        "outputId": "0ee3ed69-b1ea-40a8-a4ca-aa1c75e51ae2"
      },
      "source": [
        "L = [4, 5, 6]\n",
        "print(\"Length of L:\", len(L))\n",
        "print(\"The index of the last element of L:\", len(L)-1)\n",
        "print(\"The last element of L:\", L[len(L)-1])"
      ],
      "execution_count": null,
      "outputs": [
        {
          "name": "stdout",
          "output_type": "stream",
          "text": [
            "Length of L: 3\n",
            "The index of the last element of L: 2\n",
            "The last element of L: 6\n"
          ]
        }
      ]
    },
    {
      "cell_type": "markdown",
      "metadata": {
        "id": "zPnpJwvHt3Av"
      },
      "source": [
        "Alternatively, we can use negative indexes to access the elements of a list, with index -1 corresponding with the right-most element:"
      ]
    },
    {
      "cell_type": "code",
      "metadata": {
        "id": "2vXLo4bKt3Av",
        "outputId": "9eb6a439-1976-4e6c-8238-bd9c4b7f2656"
      },
      "source": [
        "print(L[-1])  # same as L[len(L)-1]\n",
        "print(L[-2])  # same as L[len(L)-2]"
      ],
      "execution_count": null,
      "outputs": [
        {
          "name": "stdout",
          "output_type": "stream",
          "text": [
            "6\n",
            "5\n"
          ]
        }
      ]
    },
    {
      "cell_type": "markdown",
      "metadata": {
        "id": "XIjdS57Jt3Av"
      },
      "source": [
        "There are several other functions that can take lists as arguments, including `min`, `max`, and `sum`:"
      ]
    },
    {
      "cell_type": "code",
      "metadata": {
        "id": "pYUYqUPjt3Aw",
        "outputId": "9d46291d-62eb-4331-d2d7-c09e145aba5c"
      },
      "source": [
        "values = [5.4, 6, 3.2, 8.1, 11]\n",
        "print(min(values))\n",
        "print(max(values))\n",
        "print(sum(values))"
      ],
      "execution_count": null,
      "outputs": [
        {
          "name": "stdout",
          "output_type": "stream",
          "text": [
            "3.2\n",
            "11\n",
            "33.7\n"
          ]
        }
      ]
    },
    {
      "cell_type": "markdown",
      "metadata": {
        "id": "No4_PAERt3Ax"
      },
      "source": [
        "We can also use the operator `in` to check whether an object is an item in a list:"
      ]
    },
    {
      "cell_type": "code",
      "metadata": {
        "id": "Bgtv165Mt3Ax",
        "outputId": "51d6056e-e871-4054-f96e-da276ab3fed3"
      },
      "source": [
        "heart_rates = [78, 85, 90, 100, 97]\n",
        "85 in heart_rates"
      ],
      "execution_count": null,
      "outputs": [
        {
          "data": {
            "text/plain": [
              "True"
            ]
          },
          "execution_count": 18,
          "metadata": {},
          "output_type": "execute_result"
        }
      ]
    },
    {
      "cell_type": "code",
      "metadata": {
        "id": "IECvAXe4t3Ax",
        "outputId": "0679923f-3444-4adf-8fc5-3742c3ad85eb"
      },
      "source": [
        "95 in heart_rates"
      ],
      "execution_count": null,
      "outputs": [
        {
          "data": {
            "text/plain": [
              "False"
            ]
          },
          "execution_count": 19,
          "metadata": {},
          "output_type": "execute_result"
        }
      ]
    },
    {
      "cell_type": "markdown",
      "metadata": {
        "id": "e1tw5nLHt3Ax"
      },
      "source": [
        "## `for` loop over `range`"
      ]
    },
    {
      "cell_type": "markdown",
      "metadata": {
        "id": "n0deIMzHt3Ay"
      },
      "source": [
        "Python has a built-in function named `range` that produces a sequence of numbers.  Here is a fragment of the documentation for `range`:\n",
        "\n",
        "    range(start, stop[, step]) -> range object\n",
        "     |  \n",
        "     |  Return an object that produces a sequence of integers from start (inclusive)\n",
        "     |  to stop (exclusive) by step.  range(i, j) produces i, i+1, i+2, ..., j-1.\n",
        "     |  start defaults to 0, and stop is omitted!  range(4) produces 0, 1, 2, 3.\n",
        "     |  These are exactly the valid indices for a list of 4 elements.\n",
        "     |  When step is given, it specifies the increment (or decrement)."
      ]
    },
    {
      "cell_type": "markdown",
      "metadata": {
        "id": "UPlWEDXXt3Ay"
      },
      "source": [
        "We can use a `for` loop to iterate over the sequence produced by `range`.  The first number is the sequence is by default 0 and the sequence continues up to but not including the argument to `range`:"
      ]
    },
    {
      "cell_type": "code",
      "metadata": {
        "id": "KLx0bYHVt3Ay",
        "colab": {
          "base_uri": "https://localhost:8080/"
        },
        "outputId": "1198f8d1-bd6c-4a49-921e-7e07031dad46"
      },
      "source": [
        "for num in range(10):\n",
        "    print(num)"
      ],
      "execution_count": 1,
      "outputs": [
        {
          "output_type": "stream",
          "name": "stdout",
          "text": [
            "0\n",
            "1\n",
            "2\n",
            "3\n",
            "4\n",
            "5\n",
            "6\n",
            "7\n",
            "8\n",
            "9\n"
          ]
        }
      ]
    },
    {
      "cell_type": "markdown",
      "metadata": {
        "id": "SlP0X-l8t3Az"
      },
      "source": [
        "If we want to start at 1 and go up 11, we can pass two arguments:"
      ]
    },
    {
      "cell_type": "code",
      "metadata": {
        "id": "AbffbDEZt3Az",
        "colab": {
          "base_uri": "https://localhost:8080/"
        },
        "outputId": "aa0db407-580d-40f6-eefa-b4510a95b282"
      },
      "source": [
        "for num in range(1, 11):\n",
        "    print(num)"
      ],
      "execution_count": 2,
      "outputs": [
        {
          "output_type": "stream",
          "name": "stdout",
          "text": [
            "1\n",
            "2\n",
            "3\n",
            "4\n",
            "5\n",
            "6\n",
            "7\n",
            "8\n",
            "9\n",
            "10\n"
          ]
        }
      ]
    },
    {
      "cell_type": "markdown",
      "metadata": {
        "id": "bn8BXSoUt3Az"
      },
      "source": [
        "We can also specify the step size, so let's use that to print even numbers from 10 to 20 inclusive:"
      ]
    },
    {
      "cell_type": "code",
      "metadata": {
        "id": "N-uIHx7Ot3A0",
        "colab": {
          "base_uri": "https://localhost:8080/"
        },
        "outputId": "513e23f0-de22-4b43-e674-ce25ca1315ab"
      },
      "source": [
        "for value in range(10, 21, 2):\n",
        "    print(value)"
      ],
      "execution_count": 3,
      "outputs": [
        {
          "output_type": "stream",
          "name": "stdout",
          "text": [
            "10\n",
            "12\n",
            "14\n",
            "16\n",
            "18\n",
            "20\n"
          ]
        }
      ]
    },
    {
      "cell_type": "markdown",
      "metadata": {
        "id": "y9FCu1Bjt3A0"
      },
      "source": [
        "## Practice Exercise: `range`\n",
        "\n",
        "Use `range` and a `for` loop to print every 4th number from 0 to 200, inclusive"
      ]
    },
    {
      "cell_type": "markdown",
      "metadata": {
        "id": "SI-sWhOCt3A0"
      },
      "source": [
        "## `for` loop over `list`"
      ]
    },
    {
      "cell_type": "markdown",
      "metadata": {
        "id": "Bs7dvrVyt3A0"
      },
      "source": [
        "Let's print out each item from `gross_earnings`:"
      ]
    },
    {
      "cell_type": "code",
      "metadata": {
        "id": "ZJwf8Pent3A0",
        "colab": {
          "base_uri": "https://localhost:8080/",
          "height": 235
        },
        "outputId": "f447f05f-6979-4b9c-e7ad-f9f0b02265cb"
      },
      "source": [
        "print(gross_earnings[0])\n",
        "print(gross_earnings[1])\n",
        "print(gross_earnings[2])\n",
        "print(gross_earnings[3])\n",
        "print(gross_earnings[4])"
      ],
      "execution_count": 4,
      "outputs": [
        {
          "output_type": "error",
          "ename": "NameError",
          "evalue": "ignored",
          "traceback": [
            "\u001b[0;31m---------------------------------------------------------------------------\u001b[0m",
            "\u001b[0;31mNameError\u001b[0m                                 Traceback (most recent call last)",
            "\u001b[0;32m<ipython-input-4-60940722d83d>\u001b[0m in \u001b[0;36m<module>\u001b[0;34m()\u001b[0m\n\u001b[0;32m----> 1\u001b[0;31m \u001b[0mprint\u001b[0m\u001b[0;34m(\u001b[0m\u001b[0mgross_earnings\u001b[0m\u001b[0;34m[\u001b[0m\u001b[0;36m0\u001b[0m\u001b[0;34m]\u001b[0m\u001b[0;34m)\u001b[0m\u001b[0;34m\u001b[0m\u001b[0;34m\u001b[0m\u001b[0m\n\u001b[0m\u001b[1;32m      2\u001b[0m \u001b[0mprint\u001b[0m\u001b[0;34m(\u001b[0m\u001b[0mgross_earnings\u001b[0m\u001b[0;34m[\u001b[0m\u001b[0;36m1\u001b[0m\u001b[0;34m]\u001b[0m\u001b[0;34m)\u001b[0m\u001b[0;34m\u001b[0m\u001b[0;34m\u001b[0m\u001b[0m\n\u001b[1;32m      3\u001b[0m \u001b[0mprint\u001b[0m\u001b[0;34m(\u001b[0m\u001b[0mgross_earnings\u001b[0m\u001b[0;34m[\u001b[0m\u001b[0;36m2\u001b[0m\u001b[0;34m]\u001b[0m\u001b[0;34m)\u001b[0m\u001b[0;34m\u001b[0m\u001b[0;34m\u001b[0m\u001b[0m\n\u001b[1;32m      4\u001b[0m \u001b[0mprint\u001b[0m\u001b[0;34m(\u001b[0m\u001b[0mgross_earnings\u001b[0m\u001b[0;34m[\u001b[0m\u001b[0;36m3\u001b[0m\u001b[0;34m]\u001b[0m\u001b[0;34m)\u001b[0m\u001b[0;34m\u001b[0m\u001b[0;34m\u001b[0m\u001b[0m\n\u001b[1;32m      5\u001b[0m \u001b[0mprint\u001b[0m\u001b[0;34m(\u001b[0m\u001b[0mgross_earnings\u001b[0m\u001b[0;34m[\u001b[0m\u001b[0;36m4\u001b[0m\u001b[0;34m]\u001b[0m\u001b[0;34m)\u001b[0m\u001b[0;34m\u001b[0m\u001b[0;34m\u001b[0m\u001b[0m\n",
            "\u001b[0;31mNameError\u001b[0m: name 'gross_earnings' is not defined"
          ]
        }
      ]
    },
    {
      "cell_type": "markdown",
      "metadata": {
        "id": "h04y664Lt3A0"
      },
      "source": [
        "The code above works, but what if there are 100 or even 100,000 items in `gross_earnings`?  We'd have to call `print` once for each of them!\n",
        "\n",
        "The only thing that varies in each line of code above is the index.  We can use a variable to represent the index and change the value of the variable so that it to refers to the values `0`, `1`, `2`, `3`, and `4`.  Here is one approach for solving this, using `range` and a `for` loop:"
      ]
    },
    {
      "cell_type": "code",
      "metadata": {
        "id": "m-WMtnQ1t3A1",
        "colab": {
          "base_uri": "https://localhost:8080/",
          "height": 183
        },
        "outputId": "41aa3e49-a583-461d-ea4c-331d8d6a04fd"
      },
      "source": [
        "for i in range(5):\n",
        "    print(gross_earnings[i])"
      ],
      "execution_count": 5,
      "outputs": [
        {
          "output_type": "error",
          "ename": "NameError",
          "evalue": "ignored",
          "traceback": [
            "\u001b[0;31m---------------------------------------------------------------------------\u001b[0m",
            "\u001b[0;31mNameError\u001b[0m                                 Traceback (most recent call last)",
            "\u001b[0;32m<ipython-input-5-32b458557d9a>\u001b[0m in \u001b[0;36m<module>\u001b[0;34m()\u001b[0m\n\u001b[1;32m      1\u001b[0m \u001b[0;32mfor\u001b[0m \u001b[0mi\u001b[0m \u001b[0;32min\u001b[0m \u001b[0mrange\u001b[0m\u001b[0;34m(\u001b[0m\u001b[0;36m5\u001b[0m\u001b[0;34m)\u001b[0m\u001b[0;34m:\u001b[0m\u001b[0;34m\u001b[0m\u001b[0;34m\u001b[0m\u001b[0m\n\u001b[0;32m----> 2\u001b[0;31m     \u001b[0mprint\u001b[0m\u001b[0;34m(\u001b[0m\u001b[0mgross_earnings\u001b[0m\u001b[0;34m[\u001b[0m\u001b[0mi\u001b[0m\u001b[0;34m]\u001b[0m\u001b[0;34m)\u001b[0m\u001b[0;34m\u001b[0m\u001b[0;34m\u001b[0m\u001b[0m\n\u001b[0m",
            "\u001b[0;31mNameError\u001b[0m: name 'gross_earnings' is not defined"
          ]
        }
      ]
    },
    {
      "cell_type": "markdown",
      "metadata": {
        "id": "wMqCalUGt3A1"
      },
      "source": [
        "We can make the code even more general and replace `5` with the length of the list, so that this code will work regardless of the number of items in `gross_earnings`:"
      ]
    },
    {
      "cell_type": "code",
      "metadata": {
        "id": "2Q3w-Fd8t3A1"
      },
      "source": [
        "for i in range(len(gross_earnings)):\n",
        "    print(gross_earnings[i])"
      ],
      "execution_count": null,
      "outputs": []
    },
    {
      "cell_type": "markdown",
      "metadata": {
        "id": "LrCnuC8Kt3A1"
      },
      "source": [
        "As an alternative, we can use a `for` loop to iterate over the items in `gross_earnings`:"
      ]
    },
    {
      "cell_type": "code",
      "metadata": {
        "id": "wGZPwVT5t3A1"
      },
      "source": [
        "for salary in gross_earnings:\n",
        "    print(salary)"
      ],
      "execution_count": null,
      "outputs": []
    },
    {
      "cell_type": "markdown",
      "metadata": {
        "id": "Opf3qU1zt3A1"
      },
      "source": [
        "In the code above, variable `salary` first refers to `gross_earnings[0]`, then `gross_earnings[1]`, and so on, until the end of the list is reached."
      ]
    },
    {
      "cell_type": "markdown",
      "metadata": {
        "id": "DliR4HTat3A2"
      },
      "source": [
        "## Worked example: Printing particular elements\n",
        "Let's write code to print the items of `gross_earnings` that are less than 300,000. "
      ]
    },
    {
      "cell_type": "markdown",
      "metadata": {
        "id": "-RZqRuidt3A2"
      },
      "source": [
        "Here is an English description of our approach to this problem:  for each item in gross_earnings, check whether it is less than 300000 and if so, print it.  Now, here is the code:"
      ]
    },
    {
      "cell_type": "code",
      "metadata": {
        "id": "hVao-SBWt3A2",
        "outputId": "61d2c51f-d005-46c4-8a9b-551fc0759990"
      },
      "source": [
        "gross_earnings = [361681, 740741, 396105,  284600, 249154]\n",
        "for i in range(len(gross_earnings)):\n",
        "    if gross_earnings[i] < 300000:\n",
        "        print(gross_earnings[i])\n",
        "    "
      ],
      "execution_count": null,
      "outputs": [
        {
          "name": "stdout",
          "output_type": "stream",
          "text": [
            "284600\n",
            "249154\n"
          ]
        }
      ]
    },
    {
      "cell_type": "markdown",
      "metadata": {
        "id": "3P1eITMZt3A2"
      },
      "source": [
        "Let's trace [the code above](http://www.pythontutor.com/visualize.html#code=gross_earnings%20%3D%20%5B361681,%20740741,%20396105,%20%20284600,%20249154%5D%0Afor%20i%20in%20range(len(gross_earnings%29%29%3A%0A%20%20%20%20if%20gross_earnings%5Bi%5D%20%3C%20300000%3A%0A%20%20%20%20%20%20%20%20print(gross_earnings%5Bi%5D%29%0A%20%20%20%20%20%20%20%20&cumulative=false&curInstr=0&heapPrimitives=true&mode=display&origin=opt-frontend.js&py=3&rawInputLstJSON=%5B%5D&textReferences=false) using the Python Visualizer."
      ]
    },
    {
      "cell_type": "markdown",
      "metadata": {
        "id": "0AU-5hcpt3A2"
      },
      "source": [
        "An alternative approach is to iterate over the list directly:"
      ]
    },
    {
      "cell_type": "code",
      "metadata": {
        "id": "QePHM2CIt3A2",
        "outputId": "8621dbec-5993-4d1c-bc35-d0fe1289a527"
      },
      "source": [
        "for salary in gross_earnings:\n",
        "    if salary < 300000:\n",
        "        print(salary)"
      ],
      "execution_count": null,
      "outputs": [
        {
          "name": "stdout",
          "output_type": "stream",
          "text": [
            "284600\n",
            "249154\n"
          ]
        }
      ]
    },
    {
      "cell_type": "markdown",
      "metadata": {
        "id": "RwQLpez6t3A2"
      },
      "source": [
        "We can also trace [the code above](http://www.pythontutor.com/visualize.html#code=gross_earnings%20%3D%20%5B361681,%20740741,%20396105,%20%20284600,%20249154%5D%0Afor%20salary%20in%20gross_earnings%3A%0A%20%20%20%20if%20salary%20%3C%20300000%3A%0A%20%20%20%20%20%20%20%20print(salary%29&cumulative=false&curInstr=0&heapPrimitives=true&mode=display&origin=opt-frontend.js&py=3&rawInputLstJSON=%5B%5D&textReferences=false) using the Python Visualizer to see how it differs from the previous version."
      ]
    },
    {
      "cell_type": "markdown",
      "metadata": {
        "id": "666aj-pWt3A2"
      },
      "source": [
        "## Computing the sum of a list\n",
        "\n",
        "Suppose we want to compute the sum of all the values in a list.  We can use the *numeric accumulator pattern* that we used with strings.\n",
        "\n",
        "Here's the idea: we'll set up a variable `total` that initially refers to `0`, and we'll keep adding adding values to it.\n",
        "\n",
        "Initially, `total` will refer to 0.\n",
        "\n",
        "Then we'll add `gross_earnings[0]` to `total`.  \n",
        "\n",
        "Next, we'll add `gross_earnings[1]` to `total`.\n",
        "\n",
        "and so on ...  \n",
        "\n",
        "Finally,  we'll add `gross_earnings[len(gross_earnings)-1]` to `total`.\n",
        "\n",
        "Here is how to express this in Python:"
      ]
    },
    {
      "cell_type": "code",
      "metadata": {
        "id": "TAsp68swt3A3",
        "outputId": "775bda12-c25f-46e3-b282-869b50a21dc0"
      },
      "source": [
        "gross_earnings = [361681, 740741, 396105,  284600, 249154]\n",
        "total = 0    \n",
        "for i in range(len(gross_earnings)):\n",
        "    total = total + gross_earnings[i]\n",
        "    print(\"At iteration\", i, \"total = \", total)\n",
        "\n",
        "print(\"Final total:\", total)   "
      ],
      "execution_count": null,
      "outputs": [
        {
          "name": "stdout",
          "output_type": "stream",
          "text": [
            "At iteration 0 total =  361681\n",
            "At iteration 1 total =  1102422\n",
            "At iteration 2 total =  1498527\n",
            "At iteration 3 total =  1783127\n",
            "At iteration 4 total =  2032281\n",
            "Final total: 2032281\n"
          ]
        }
      ]
    },
    {
      "cell_type": "markdown",
      "metadata": {
        "id": "_WGtccmet3A3"
      },
      "source": [
        "It isn't necessary to print out the intermediate values of `total`, of course. We just did that for illustration purposes."
      ]
    },
    {
      "cell_type": "markdown",
      "metadata": {
        "id": "efGce_jgt3A3"
      },
      "source": [
        "## Iteration and Accumulation\n",
        "\n",
        "Once we know the sum of a list, computing the average is straight forward: all we need to do is divide the sum by the number of elements. \n",
        "\n",
        "First, consider how you can get the number of items in a list, using one of Python's built-in functions.\n",
        "\n",
        "Now, compute the average of the items in `gross_earnings`:"
      ]
    },
    {
      "cell_type": "code",
      "metadata": {
        "collapsed": true,
        "id": "FI-MHWg0t3A3"
      },
      "source": [
        "gross_earnings = [361681, 740741, 396105,  284600, 249154]"
      ],
      "execution_count": null,
      "outputs": []
    },
    {
      "cell_type": "markdown",
      "metadata": {
        "id": "pxqnzWqkt3A3"
      },
      "source": [
        "Check your answer: 406456.2"
      ]
    }
  ]
}